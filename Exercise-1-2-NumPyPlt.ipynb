{
 "cells": [
  {
   "cell_type": "markdown",
   "metadata": {},
   "source": [
    "# Computer Vision \n",
    "\n",
    "# Exercise 1: Introduction To Python, NumPy And Matplotlib\n",
    "\n",
    "- TU Chemnitz\n",
    "    - Fak. für Informatik\n",
    "        - Professur Künstliche Intelligenz\n",
    "            - Lehre\n",
    "                - Bildverstehen\n",
    "     \n",
    "Contact:\n",
    "* julien dot vitay at informatik dot tu-chemnitz dot de\n",
    "* abbas dot al-ali at informatik dot tu-chemnitz dot de\n",
    "\n",
    "Course web page:\n",
    "[https://www.tu-chemnitz.de/informatik/KI/edu/biver/](https://www.tu-chemnitz.de/informatik/KI/edu/biver/)"
   ]
  },
  {
   "cell_type": "markdown",
   "metadata": {},
   "source": [
    "## Exercise 1-2: Introduction To NumPy And Matplotlib\n",
    "\n",
    "## 1. NumPy Numerical Library\n",
    "- NumPy is a linear algebra library written in Python.\n",
    "- The reference manual is at [http://docs.scipy.org/doc](http://docs.scipy.org/doc)\n",
    "- A nice tutorial can be found at [https://docs.scipy.org/doc/numpy/user/quickstart.html](https://docs.scipy.org/doc/numpy/user/quickstart.html)\n",
    "- A detailed list of all available functions (with examples) is at [https://docs.scipy.org/doc/numpy/reference/routines.html](https://docs.scipy.org/doc/numpy/reference/routines.html)\n",
    "- If you already know Matlab, a comparison is at [https://docs.scipy.org/doc/numpy/user/numpy-for-matlab-users.html](https://docs.scipy.org/doc/numpy/user/numpy-for-matlab-users.html)"
   ]
  },
  {
   "cell_type": "markdown",
   "metadata": {},
   "source": [
    "Importing the library\n",
    "\n",
    "- You can write at the beginning of your script:\n",
    "```python\n",
    "from numpy import *\n",
    "```\n",
    "- All the a vailables functions are then imported into your working space.\n",
    "- It is often better to keep a short namespace, as it could overload other library definitions:\n",
    "```python\n",
    "import numpy as np \n",
    "```\n",
    "- You can get help on any NumPy function:\n",
    "```python\n",
    "help(np.array)\n",
    "help(np.ndarray.transpose)\n",
    "```"
   ]
  },
  {
   "cell_type": "markdown",
   "metadata": {},
   "source": [
    "### 1.A. Vectors And Matrices\n",
    "\n",
    "-   The basic object in NumPy is an array with d-dimensions (1 = vector,2 = matrix, etc...). They can store either integers or floats.\n",
    "\n",
    "-   In order to create a vector of three floats, you simply have to call the `array()` method giving the list of the floats as input:\n",
    "\n",
    "```python\n",
    "list_of_floats =  [ 1., 2., 3.]\n",
    "V = np.array( list_of_floats )\n",
    "```\n",
    "\n",
    "- Each initial element of the vector has to be given inside a Python list. For a 3*4 matrix of 8 bits unsigned integers, it is:\n",
    "\n",
    "```python\n",
    "list_of_lists = [ [ 1, 2, 3, 4],[ 5, 6, 7, 8],[ 4, 3, 2, 1] ]\n",
    "M = np.array( list_of_lists , dtype=np.uint8)\n",
    "```\n",
    "\n",
    "- Most of the time you don't care about the type in Python (the default floating-point precision is what you want), but if you need it, you can always specify it with the parameter dtype={int32, uint16, float64, ...}.\n",
    "\n",
    "- Matrices should be initialized with a list of lists. The elements of the array are internally stored in a sequence, so you can easily reshape vectors or matrices using the `reshape()` method. The `shape` propertey gives the shape of an array, `dtype` its associated data type.\n"
   ]
  },
  {
   "cell_type": "markdown",
   "metadata": {},
   "source": [
    "### 1.B. Attributes Of An Array\n",
    "\n",
    "The following attributes of an array can be accessed:\n",
    "\n",
    "- `A.shape` : returns the shape of the vector or matrix (row, column)\n",
    "\n",
    "- `A.size` : returns the total number of elements in the array\n",
    "\n",
    "- `A.ndim` : returns the number of dimensions of the array (vector: 1, matrix:2)\n",
    "\n",
    "- `A.dtype.name` : returns the type of data stored in the array (int32, uint16, float64...)\n",
    "\n",
    "- `A.itemsize` : returns the size in bytes of each element."
   ]
  },
  {
   "cell_type": "markdown",
   "metadata": {},
   "source": [
    "Run the following cells and watch the results. Change the values, type or the number of the elements and run again."
   ]
  },
  {
   "cell_type": "code",
   "execution_count": 4,
   "metadata": {},
   "outputs": [
    {
     "name": "stdout",
     "output_type": "stream",
     "text": [
      "Type of elements in V is : float64\n",
      "Type of V.shape is : <class 'tuple'>\n",
      "Shape of V is : (3,)\n",
      "V is:\n",
      "[1. 2. 3.]\n"
     ]
    }
   ],
   "source": [
    "from __future__ import print_function\n",
    "import numpy as np\n",
    "\n",
    "list_of_floats =  [ 1., 2., 3.]\n",
    "V = np.array( list_of_floats )\n",
    "\n",
    "print('Type of elements in V is :',V.dtype)\n",
    "print('Type of V.shape is :',type(V.shape))\n",
    "print('Shape of V is :',V.shape)\n",
    "print('V is:')\n",
    "print(V)"
   ]
  },
  {
   "cell_type": "code",
   "execution_count": 3,
   "metadata": {},
   "outputs": [
    {
     "name": "stdout",
     "output_type": "stream",
     "text": [
      "Type of elements in M is : uint8\n",
      "Type of M.shape is : <class 'tuple'>\n",
      "Shape of M is : (3, 4)\n",
      "M is:\n",
      "[[1 2 3 4]\n",
      " [5 6 7 8]\n",
      " [4 3 2 1]]\n"
     ]
    }
   ],
   "source": [
    "list_of_lists = [ [ 1, 2, 3, 4],[ 5, 6, 7, 8],[ 4, 3, 2, 1] ]\n",
    "M = np.array( list_of_lists , dtype=np.uint8)\n",
    "# do the same with M\n",
    "\n",
    "print('Type of elements in M is :', M.dtype)\n",
    "print('Type of M.shape is :',type(M.shape))\n",
    "print('Shape of M is :',M.shape)\n",
    "print('M is:')\n",
    "print(M)"
   ]
  },
  {
   "cell_type": "code",
   "execution_count": 4,
   "metadata": {},
   "outputs": [
    {
     "name": "stdout",
     "output_type": "stream",
     "text": [
      "Shape of A is : (8,)\n",
      "A is:\n",
      "[1 2 3 4 5 6 7 8]\n",
      "\n",
      "A.reshape(2,4):\n",
      " [[1 2 3 4]\n",
      " [5 6 7 8]]\n",
      "\n",
      "A:\n",
      " [1 2 3 4 5 6 7 8]\n",
      "\n",
      "B:\n",
      " [[1 2 3 4]\n",
      " [5 6 7 8]]\n",
      "\n",
      "A:\n",
      " [1 2 3 4 5 6 7 8]\n",
      "\n",
      "B:\n",
      " [[1]\n",
      " [2]\n",
      " [3]\n",
      " [4]\n",
      " [5]\n",
      " [6]\n",
      " [7]\n",
      " [8]]\n",
      "\n",
      "A:\n",
      " [1 2 3 4 5 6 7 8]\n"
     ]
    }
   ],
   "source": [
    "A = np.array([ 1, 2, 3, 4, 5, 6, 7, 8])\n",
    "print('Shape of A is :',A.shape)\n",
    "print('A is:')\n",
    "print(A)\n",
    "\n",
    "print('\\nA.reshape(2,4):\\n',A.reshape(2,4))\n",
    "print('\\nA:\\n',A)\n",
    "\n",
    "B = A.reshape(2,4)\n",
    "print('\\nB:\\n',B)\n",
    "print('\\nA:\\n',A)\n",
    "\n",
    "B.shape = (8,1)\n",
    "print('\\nB:\\n',B)\n",
    "print('\\nA:\\n',A)"
   ]
  },
  {
   "cell_type": "markdown",
   "metadata": {},
   "source": [
    "### 1.C. Initialization Of An Array\n",
    "\n",
    "Here are some specific initializations for vectors/matrices:"
   ]
  },
  {
   "cell_type": "code",
   "execution_count": 12,
   "metadata": {},
   "outputs": [
    {
     "name": "stdout",
     "output_type": "stream",
     "text": [
      "\n",
      " [[0. 0. 0.]\n",
      " [0. 0. 0.]]\n",
      "\n",
      " [1 1 1 1 1 1 1 1 1 1 1 1]\n",
      "\n",
      " [0.  0.1 0.2 0.3 0.4 0.5 0.6 0.7 0.8 0.9 1. ]\n",
      "\n",
      " [[0.97351848 0.32495284 0.52687318 0.70344886 0.78708592]\n",
      " [0.56782209 0.46771084 0.92099362 0.12888155 0.35928558]]\n",
      "\n",
      " [[ 1.1076766  -1.15934343  0.60993652  1.43865386  0.88390597]\n",
      " [ 0.64322096  0.44070071 -1.86630104  0.47502082  1.5611926 ]\n",
      " [ 1.29941939  0.86010142  1.92324201 -0.18004065  0.60782858]]\n",
      "\n",
      " [[ 0  1  2]\n",
      " [ 3  4  5]\n",
      " [ 6  7  8]\n",
      " [ 9 10 11]]\n"
     ]
    }
   ],
   "source": [
    "# A 2*3 matrix filled with 0.0\n",
    "A = np.zeros((2,3))  \n",
    "\n",
    "# A vector of 12 elements initialized to 1.0\n",
    "B = np.ones(12,dtype=int)  \n",
    "\n",
    "# A vector of 11 elements whose value linearly\n",
    "# increases from 0.0 to 1.0\n",
    "C = np.linspace(0.0, 1.0, 11) \n",
    "\n",
    "# A 2*5 matrix with values randomly taken \n",
    "# from an uniform distribution between 0.0 and 1.0.\n",
    "D = np.random.uniform(0.0, 1.0, (2, 5)) \n",
    "\n",
    "# A 3*5 matrix with values randomly taken from\n",
    "# a normal (gaussian) distribution \n",
    "# with a mean of 0.5 and standard deviation of 1.0.\n",
    "E = np.random.normal(0.5, 1.0, (3, 5)) \n",
    "\n",
    "# A 2*4*3 array (two 4*3 pages)\n",
    "F = np.arange(24).reshape((2,4,3))\n",
    "\n",
    "print('\\n',A)\n",
    "print('\\n',B)\n",
    "print('\\n',C)\n",
    "print('\\n',D)\n",
    "print('\\n',E)\n",
    "print('\\n',F[0,:,:])"
   ]
  },
  {
   "cell_type": "markdown",
   "metadata": {},
   "source": [
    "### 1.D. Manipulation Of Matrices: Indices, Slices\n",
    "\n",
    "- To access a particular element of a matrix, you can use the usual Python list style (the first element has a rank of 0):"
   ]
  },
  {
   "cell_type": "code",
   "execution_count": 13,
   "metadata": {},
   "outputs": [
    {
     "name": "stdout",
     "output_type": "stream",
     "text": [
      "\n",
      " [[ 1  2  3  4]\n",
      " [ 5  6  7  8]\n",
      " [ 9 10 11 12]]\n",
      "\n",
      " 3\n",
      "\n",
      " [ 2  6 10]\n",
      "\n",
      " [[ 2  3]\n",
      " [ 6  7]\n",
      " [10 11]]\n",
      "\n",
      " [ 9 10 11 12]\n",
      "\n",
      " [[ -1   2   3 100]\n",
      " [  5   6   7 200]\n",
      " [  9   9   5 300]]\n"
     ]
    }
   ],
   "source": [
    "#A = np.arange(1,13).reshape((3,4))\n",
    "A = np.array([ \n",
    "        [ 1, 2 , 3 , 4 ],\n",
    "        [ 5, 6 , 7 , 8 ],\n",
    "        [ 9, 10, 11, 12]])\n",
    "\n",
    "print('\\n',A)\n",
    "\n",
    "B = A[0, 2] \n",
    "C = A[:, 1] \n",
    "D = A[:, 1:3] \n",
    "E = A[-1,:] \n",
    "\n",
    "print('\\n',B)\n",
    "print('\\n',C)\n",
    "print('\\n',D)\n",
    "print('\\n',E)\n",
    "\n",
    "# on the left side\n",
    "A[0,0] = -1\n",
    "A[2,-1:0:-1] = A[:,0]\n",
    "A[:,-1] = [100,200,300]\n",
    "print('\\n',A)"
   ]
  },
  {
   "cell_type": "markdown",
   "metadata": {},
   "source": [
    "- To perform conditional manipulation of matrix content, one can retrieve the indices easily:"
   ]
  },
  {
   "cell_type": "code",
   "execution_count": 14,
   "metadata": {},
   "outputs": [
    {
     "name": "stdout",
     "output_type": "stream",
     "text": [
      "[[ True False False  True]\n",
      " [False  True  True  True]]\n",
      "[[0 2 1 0]\n",
      " [3 0 0 0]]\n"
     ]
    }
   ],
   "source": [
    "A = np.array( \n",
    "    [ [ -2,  2,  1, -4],\n",
    "      [  3, -1, -5, -3] ])\n",
    "negatives = A < 0\n",
    "A[negatives] = 0\n",
    "\n",
    "print(negatives)\n",
    "print(A)\n",
    "\n",
    "# or simply\n",
    "#A[A < 0] = 0\n",
    "#print(A)"
   ]
  },
  {
   "cell_type": "markdown",
   "metadata": {},
   "source": [
    "### 1.E. Basic Linear Algebra \n",
    "\n",
    "- Let's define some matrices:"
   ]
  },
  {
   "cell_type": "code",
   "execution_count": 15,
   "metadata": {},
   "outputs": [],
   "source": [
    "A = np.array( [ [ 1, 2, 3, 4],\n",
    "                [ 5, 6, 7, 8] ])\n",
    "\n",
    "B = np.array( [ [ 1, 2],\n",
    "                [ 3, 4],\n",
    "                [ 5, 6],\n",
    "                [ 7, 8] ])\n",
    "\n",
    "C = np.array( [ [  1,  2,  3,  4],\n",
    "                [  5,  6,  7,  8],\n",
    "                [  9, 10, 11, 12],\n",
    "                [ 13, 14, 15, 16] ])"
   ]
  },
  {
   "cell_type": "markdown",
   "metadata": {},
   "source": [
    "#### 1.E.a. Transpose A Matrix \n",
    "\n",
    "- A matrix can be transposed with the `transpose()` method or the `.T` shortcut:"
   ]
  },
  {
   "cell_type": "code",
   "execution_count": 16,
   "metadata": {},
   "outputs": [
    {
     "name": "stdout",
     "output_type": "stream",
     "text": [
      "[[1 2 3 4]\n",
      " [5 6 7 8]]\n",
      "\n",
      " [[1 5]\n",
      " [2 6]\n",
      " [3 7]\n",
      " [4 8]]\n",
      "\n",
      " [[1 5]\n",
      " [2 6]\n",
      " [3 7]\n",
      " [4 8]]\n"
     ]
    }
   ],
   "source": [
    "D = A.transpose() \n",
    "E = A.T # equivalent but simpler\n",
    "\n",
    "print(A)\n",
    "print('\\n',D)\n",
    "print('\\n',E)"
   ]
  },
  {
   "cell_type": "markdown",
   "metadata": {},
   "source": [
    "- `transpose()` does not change `A`, only the returns a transposed copy. To change `A` use am assigment `A = A.T`"
   ]
  },
  {
   "cell_type": "markdown",
   "metadata": {},
   "source": [
    "#### 1.E.b. Multiply Two Matrices \n",
    "\n",
    "- element-wise: Two arrays of **exactly** the same size can be multiplied *element-wise* by using the `*` operator.\n",
    "\n",
    "- algebrically: To perform a **matrix multiplication**, you have to use the `dot()` method.\n",
    "    + One dimension must match! `(m, n) * (n, p) = (m, p)`"
   ]
  },
  {
   "cell_type": "code",
   "execution_count": 17,
   "metadata": {},
   "outputs": [
    {
     "name": "stdout",
     "output_type": "stream",
     "text": [
      "[[ 1  6 15 28]\n",
      " [10 24 42 64]]\n",
      "\n",
      " [[ 1 10]\n",
      " [ 6 24]\n",
      " [15 42]\n",
      " [28 64]]\n",
      "\n",
      " [[ 50  60]\n",
      " [114 140]]\n",
      "\n",
      " [[11 14 17 20]\n",
      " [23 30 37 44]\n",
      " [35 46 57 68]\n",
      " [47 62 77 92]]\n"
     ]
    }
   ],
   "source": [
    "A = np.array( [ [ 1, 2, 3, 4],\n",
    "                [ 5, 6, 7, 8] ])\n",
    "B = np.array( [ [ 1, 2],\n",
    "                [ 3, 4],\n",
    "                [ 5, 6],\n",
    "                [ 7, 8] ])\n",
    "C = A * B.T\n",
    "D = A.T * B\n",
    "\n",
    "print(C)\n",
    "print('\\n',D)\n",
    "\n",
    "E = np.dot(A, B)\n",
    "F = np.dot(B, A)\n",
    "\n",
    "print('\\n',E)\n",
    "print('\\n',F)\n"
   ]
  },
  {
   "cell_type": "markdown",
   "metadata": {},
   "source": [
    "#### 1.E.c. Inversing A Matrix\n",
    "\n",
    "- Inversing a Matrix (when possible) can be done using the `inv()` method whitch is defined in the `linalg` submodule of NumPy."
   ]
  },
  {
   "cell_type": "code",
   "execution_count": 18,
   "metadata": {},
   "outputs": [
    {
     "name": "stdout",
     "output_type": "stream",
     "text": [
      "[[ 1.50119988e+15 -3.75299969e+14 -3.75299969e+15  2.62709978e+15]\n",
      " [-1.95155984e+16  1.95155984e+16  1.95155984e+16 -1.95155984e+16]\n",
      " [ 3.45275971e+16 -3.79052969e+16 -2.77721977e+16  3.11498974e+16]\n",
      " [-1.65131986e+16  1.87649984e+16  1.20095990e+16 -1.42613988e+16]]\n",
      "[[  0. -16.   0.   0.]\n",
      " [  0.   0. -32.   0.]\n",
      " [-64.   0.   0.   0.]\n",
      " [  0.   0. -64.  64.]]\n",
      "-1.820448242817726e-31\n",
      "[[-1.5   0.5 ]\n",
      " [ 1.25 -0.25]]\n",
      "[[1. 0.]\n",
      " [0. 1.]]\n",
      "-3.999999999999999\n"
     ]
    }
   ],
   "source": [
    "A = np.array( [ [  1,  2,  3,  4],\n",
    "                [  5,  6,  7,  8],\n",
    "                [  9, 10, 11, 12],\n",
    "                [ 13, 14, 15, 16] ])\n",
    "\n",
    "A_INV = np.linalg.inv(A)\n",
    "print(A_INV)\n",
    "print(np.dot(A,A_INV))\n",
    "\n",
    "print(np.linalg.det(A))\n",
    "\n",
    "A = np.array( [ [  1,  2],\n",
    "                [  5,  6]])\n",
    "\n",
    "A_INV = np.linalg.inv(A)\n",
    "print(A_INV)\n",
    "print(np.dot(A,A_INV))\n",
    "\n",
    "print(np.linalg.det(A))"
   ]
  },
  {
   "cell_type": "markdown",
   "metadata": {},
   "source": [
    "### 1.F. Summing Elements \n",
    "\n",
    "- One can sum the elements of a matrix globally, row-wise or column-wise:"
   ]
  },
  {
   "cell_type": "code",
   "execution_count": 19,
   "metadata": {},
   "outputs": [
    {
     "name": "stdout",
     "output_type": "stream",
     "text": [
      "36\n",
      "[ 6  8 10 12]\n",
      "[10 26]\n"
     ]
    }
   ],
   "source": [
    "A = np.array( [ [ 1, 2, 3, 4],\n",
    "                [ 5, 6, 7, 8] ])\n",
    "\n",
    "# Globally\n",
    "S1 = np.sum(A)\n",
    "\n",
    "# Per column\n",
    "S2 = np.sum(A, axis=0) \n",
    "\n",
    "# Per row\n",
    "S3 = np.sum(A, axis=1) \n",
    "\n",
    "print(S1);print(S2);print(S3)\n"
   ]
  },
  {
   "cell_type": "markdown",
   "metadata": {},
   "source": [
    "### 1.G. Mathematical Operations \n",
    "\n",
    "- You can apply any usual mathematical operations (cos, sin, exp, etc...) on each element of a matrix:"
   ]
  },
  {
   "cell_type": "code",
   "execution_count": 20,
   "metadata": {},
   "outputs": [
    {
     "name": "stdout",
     "output_type": "stream",
     "text": [
      "[[2.71828183e+00 7.38905610e+00 2.00855369e+01 5.45981500e+01]\n",
      " [1.48413159e+02 4.03428793e+02 1.09663316e+03 2.98095799e+03]]\n",
      "\n",
      " [[ 0.54030231 -0.41614684 -0.9899925  -0.65364362]\n",
      " [ 0.28366219  0.96017029  0.75390225 -0.14550003]]\n",
      "\n",
      " [[0.         0.69314718 1.09861229 1.38629436]\n",
      " [1.60943791 1.79175947 1.94591015 2.07944154]]\n",
      "\n",
      " [[ 2.16120922  5.          3.24181384 -2.91302786]\n",
      " [-7.91993997 -5.88279259  2.83662185 10.56187315]]\n"
     ]
    }
   ],
   "source": [
    "A = np.array( [ [ 1, 2, 3, 4],\n",
    "                [ 5, 6, 7, 8] ])\n",
    "B = np.exp(A)\n",
    "C = np.cos(A)\n",
    "D = np.log(A)\n",
    "E = (A+3) * np.cos(A-2)\n",
    "\n",
    "print(B);print('\\n',C);print('\\n',D);print('\\n',E)"
   ]
  },
  {
   "cell_type": "markdown",
   "metadata": {},
   "source": [
    "## 2. Matplotlib\n",
    "\n",
    "- Matplotlib is a python 2D plotting library which produces publication quality figures in a variety of hardcopy formats and interactive environments across platforms.\n",
    "\n",
    "![](img/matplotlib.png)\n",
    "\n",
    "- Reference: <http://matplotlib.org>\n",
    "\n",
    "- Tutorial by N. Rougier: <http://www.labri.fr/perso/nrougier/teaching/matplotlib>\n",
    "\n",
    "- Simply imported with :\n",
    "\n",
    "```python\n",
    "import matplotlib.pyplot as plt\n",
    "```\n",
    "\n",
    "- In the B202, one has to explicitly specify the backend:"
   ]
  },
  {
   "cell_type": "code",
   "execution_count": 2,
   "metadata": {},
   "outputs": [],
   "source": [
    "import matplotlib\n",
    "matplotlib.use('TKAgg')\n",
    "import matplotlib.pyplot as plt"
   ]
  },
  {
   "cell_type": "markdown",
   "metadata": {},
   "source": [
    "### 2.A. Plotting The Graph Of A Function\n",
    "\n",
    "- The `plot` command allows to make simple line drawings:"
   ]
  },
  {
   "cell_type": "code",
   "execution_count": 10,
   "metadata": {},
   "outputs": [
    {
     "name": "stdout",
     "output_type": "stream",
     "text": [
      "[ 0.          0.1010101   0.2020202   0.3030303   0.4040404   0.50505051\n",
      "  0.60606061  0.70707071  0.80808081  0.90909091  1.01010101  1.11111111\n",
      "  1.21212121  1.31313131  1.41414141  1.51515152  1.61616162  1.71717172\n",
      "  1.81818182  1.91919192  2.02020202  2.12121212  2.22222222  2.32323232\n",
      "  2.42424242  2.52525253  2.62626263  2.72727273  2.82828283  2.92929293\n",
      "  3.03030303  3.13131313  3.23232323  3.33333333  3.43434343  3.53535354\n",
      "  3.63636364  3.73737374  3.83838384  3.93939394  4.04040404  4.14141414\n",
      "  4.24242424  4.34343434  4.44444444  4.54545455  4.64646465  4.74747475\n",
      "  4.84848485  4.94949495  5.05050505  5.15151515  5.25252525  5.35353535\n",
      "  5.45454545  5.55555556  5.65656566  5.75757576  5.85858586  5.95959596\n",
      "  6.06060606  6.16161616  6.26262626  6.36363636  6.46464646  6.56565657\n",
      "  6.66666667  6.76767677  6.86868687  6.96969697  7.07070707  7.17171717\n",
      "  7.27272727  7.37373737  7.47474747  7.57575758  7.67676768  7.77777778\n",
      "  7.87878788  7.97979798  8.08080808  8.18181818  8.28282828  8.38383838\n",
      "  8.48484848  8.58585859  8.68686869  8.78787879  8.88888889  8.98989899\n",
      "  9.09090909  9.19191919  9.29292929  9.39393939  9.49494949  9.5959596\n",
      "  9.6969697   9.7979798   9.8989899  10.        ]\n",
      "[  1.           1.01020304   1.04081216   1.09182736   1.16324865\n",
      "   1.25507601   1.36730946   1.49994898   1.65299459   1.82644628\n",
      "   2.02030405   2.2345679    2.46923783   2.72431385   2.99979594\n",
      "   3.29568411   3.61197837   3.94867871   4.30578512   4.68329762\n",
      "   5.0812162    5.49954086   5.9382716    6.39740843   6.87695133\n",
      "   7.37690032   7.89725538   8.43801653   8.99918376   9.58075707\n",
      "  10.18273646  10.80512193  11.44791348  12.11111111  12.79471483\n",
      "  13.49872462  14.2231405   14.96796245  15.73319049  16.51882461\n",
      "  17.32486481  18.15131109  18.99816345  19.8654219   20.75308642\n",
      "  21.66115702  22.58963371  23.53851648  24.50780533  25.49750026\n",
      "  26.50760127  27.53810836  28.58902153  29.66034078  30.75206612\n",
      "  31.86419753  32.99673503  34.1496786   35.32302826  36.516784\n",
      "  37.73094582  38.96551372  40.22048771  41.49586777  42.79165391\n",
      "  44.10784614  45.44444444  46.80144883  48.1788593   49.57667585\n",
      "  50.99489848  52.43352719  53.89256198  55.37200286  56.87184981\n",
      "  58.39210285  59.93276196  61.49382716  63.07529844  64.6771758\n",
      "  66.29945924  67.94214876  69.60524436  71.28874605  72.99265381\n",
      "  74.71696766  76.46168758  78.22681359  80.01234568  81.81828385\n",
      "  83.6446281   85.49137843  87.35853484  89.24609734  91.15406591\n",
      "  93.08244057  95.0312213   97.00040812  98.99000102 101.        ]\n"
     ]
    }
   ],
   "source": [
    "# prepare the data\n",
    "X = np.linspace(0., 10., 100)\n",
    "Y = X**2 + 1.\n",
    "\n",
    "# then plot them\n",
    "plt.figure(figsize=(10, 10))\n",
    "plt.plot(X, Y, '.')\n",
    "plt.show()\n",
    "print(X)\n",
    "print(Y)"
   ]
  },
  {
   "cell_type": "markdown",
   "metadata": {},
   "source": [
    "- `plot()` takes two vectors X and Y and a style (here a line '-', but colored dots are possible).\n",
    "\n",
    "- The call to `show()` is obligatory at the end to display the window!"
   ]
  },
  {
   "cell_type": "markdown",
   "metadata": {},
   "source": [
    "### 2.B. Nicer Axes"
   ]
  },
  {
   "cell_type": "code",
   "execution_count": 6,
   "metadata": {},
   "outputs": [],
   "source": [
    "import numpy as np\n",
    "import matplotlib.pyplot as plt\n",
    "\n",
    "X = np.linspace(0., 10., 100)\n",
    "Y = X**2 + 1.\n",
    "\n",
    "plt.plot(X, Y, '-')\n",
    "plt.title('A quadratic function of x')\n",
    "plt.xlabel('x')\n",
    "plt.ylabel('$y = x^2 + 1$')\n",
    "plt.show()"
   ]
  },
  {
   "cell_type": "markdown",
   "metadata": {},
   "source": [
    "### 2.C. Two Plots With A Legend"
   ]
  },
  {
   "cell_type": "code",
   "execution_count": 11,
   "metadata": {},
   "outputs": [],
   "source": [
    "import numpy as np\n",
    "import matplotlib.pyplot as plt\n",
    "\n",
    "X = np.linspace(0., 10., 100)\n",
    "Y = X**2 + 1.\n",
    "Z = 100./(X**2 + 1.)\n",
    "\n",
    "plt.plot(X, Y, '-', label='y')\n",
    "plt.plot(X, Z, '-', label='z')\n",
    "plt.title('Two functions of x')\n",
    "plt.xlabel('x')\n",
    "plt.ylabel('y and z')\n",
    "plt.legend()\n",
    "plt.show()"
   ]
  },
  {
   "cell_type": "markdown",
   "metadata": {},
   "source": [
    "### 2.D. Two Plots Side By Side"
   ]
  },
  {
   "cell_type": "code",
   "execution_count": 8,
   "metadata": {},
   "outputs": [],
   "source": [
    "import numpy as np\n",
    "import matplotlib.pyplot as plt\n",
    "\n",
    "X = np.linspace(0., 10., 100)\n",
    "Y = X**2 + 1.\n",
    "Z = 100./(X**2 + 1.)\n",
    "\n",
    "plt.subplot(121)\n",
    "plt.plot(X, Y, '-', label='y')\n",
    "plt.xlabel('x')\n",
    "plt.ylabel('y')\n",
    "plt.subplot(122)\n",
    "plt.plot(X, Z, '-', label='z')\n",
    "plt.xlabel('x')\n",
    "plt.ylabel('z')\n",
    "plt.show()"
   ]
  },
  {
   "cell_type": "markdown",
   "metadata": {},
   "source": [
    "### 2.E. Plotting Matrices / Images\n",
    "\n",
    "- Matrices can be displayed using `imshow()`\n",
    "\n",
    "- You can choose the color code with the `cmap` argument.\n",
    "\n",
    "- The interpolation method can also be selected for small matrices (`interpolation=\"bicubic\"`).\n",
    "\n",
    "- (0, 0) is at the top-left of the image, the first axis is vertical. Change it with the `origin` parameter."
   ]
  },
  {
   "cell_type": "code",
   "execution_count": 11,
   "metadata": {},
   "outputs": [],
   "source": [
    "import numpy as np\n",
    "import matplotlib.pyplot as plt\n",
    "\n",
    "img = np.random.uniform(0., 1., (600, 800))\n",
    "\n",
    "plt.imshow(img, cmap=plt.cm.gray)\n",
    "plt.show()"
   ]
  },
  {
   "cell_type": "markdown",
   "metadata": {},
   "source": [
    "## 3. Exercises\n",
    "\n",
    "### 3.A. Basic Linear Algebra\n",
    "\n",
    "-   Write the following system of equations in the matrix form ($A \\cdot X = B$) and solve it using NumPy. Check that it worked.\n",
    "\n",
    "$$\n",
    "\\begin{cases}\n",
    "\\begin{array}{lll}\n",
    "2\\cdot x_1 + x_2+ x_3 & = & 9 \\\\\n",
    "x_1 + 2\\cdot x_2 + x_4 & = & 8 \\\\\n",
    "x_1 + 2\\cdot x_2 + 3\\cdot x_3 +2 \\cdot x_4 & = & 7 \\\\\n",
    "2\\cdot x_2 + x_3 +2 \\cdot x_4 & = & 6 \\\\\n",
    "\\end{array}\n",
    "\\end{cases}\n",
    "$$\n",
    "\n",
    "\n",
    "-   What are the eigenvalues and eigenvectors of the matrix A defined\n",
    "    above? (tip: read the doc for the function `np.linalg.eigh`)\n",
    "\n",
    "### 3.B Rotation Of A Vector\n",
    "\n",
    "-   Write a function that rotates a 2D vector by an angle $\\theta$.\n",
    "\n",
    "$$\\begin{bmatrix} \n",
    "    x' \\\\ \n",
    "    y' \n",
    "\\end{bmatrix} = \\begin{bmatrix} \n",
    "                    \\cos \\theta & -\\sin \\theta \\\\ \n",
    "                    \\sin \\theta & \\cos \\theta \n",
    "                \\end{bmatrix} \n",
    "                \\cdot \n",
    "                \\begin{bmatrix} \n",
    "                    x \\\\ \n",
    "                    y \n",
    "                \\end{bmatrix}$$"
   ]
  },
  {
   "cell_type": "markdown",
   "metadata": {},
   "source": [
    "# 3.A. Basic Linear Algebra Solution"
   ]
  },
  {
   "cell_type": "code",
   "execution_count": 61,
   "metadata": {},
   "outputs": [
    {
     "name": "stdout",
     "output_type": "stream",
     "text": [
      "x1 = 13.000000000000014\n",
      "x2 = -11.000000000000021\n",
      "x3 = -6.000000000000007\n",
      "x4 = 17.00000000000002\n",
      "\n",
      "[ 13. -11.  -6.  17.]\n",
      "\n",
      "A*X = [9. 8. 7. 6.] = B = [9 8 7 6]\n"
     ]
    }
   ],
   "source": [
    "#Write the following system of equations in the matrix form ( 𝐴⋅𝑋=𝐵 ) and solve it using NumPy. \n",
    "#Check that it worked.\n",
    "import numpy as np\n",
    "\n",
    "A = np.array( [ [2,1,1,0],\n",
    "                [1,2,0,1],\n",
    "                [1,2,3,2],\n",
    "                [0,2,1,2] ] )\n",
    "\n",
    "B = np.array( [9,8,7,6] )\n",
    "\n",
    "X = np.dot(np.linalg.inv(A), B)\n",
    "\n",
    "for idx, value in enumerate(X, start=1):\n",
    "    print(\"x\" + str(idx) + \" = \" + str(value))\n",
    "\n",
    "print()\n",
    "print(X)\n",
    "print()\n",
    "\n",
    "print(\"A*X = \" + str(np.dot(A,X)) + \" = B = \" + str(B))"
   ]
  },
  {
   "cell_type": "code",
   "execution_count": 63,
   "metadata": {},
   "outputs": [
    {
     "name": "stdout",
     "output_type": "stream",
     "text": [
      "The eigenvalues of matrix A are:\n",
      "lambda1 = (5.084437874945341+0j)\n",
      "lambda2 = (0.0504760478613856+0j)\n",
      "lambda3 = (1.9325430385966396+0.4021825006405717j)\n",
      "lambda4 = (1.9325430385966396-0.4021825006405717j)\n",
      "\n",
      "The eigenvectors of matrix A are (columnwise):\n",
      "[[ 0.34062178+0.j          0.40203011+0.j         -0.07534056-0.54847208j\n",
      "  -0.07534056+0.54847208j]\n",
      " [ 0.24680683+0.j         -0.55970515+0.j         -0.38971025+0.00669761j\n",
      "  -0.38971025-0.00669761j]\n",
      " [ 0.80381987+0.j         -0.22406218+0.j          0.61537837+0.j\n",
      "   0.61537837-0.j        ]\n",
      " [ 0.42063857+0.j          0.68912848+0.j          0.09893557+0.39128564j\n",
      "   0.09893557-0.39128564j]]\n",
      "\n",
      "v1 = [0.34062178+0.j 0.24680683+0.j 0.80381987+0.j 0.42063857+0.j]\n",
      "v2 = [ 0.40203011+0.j -0.55970515+0.j -0.22406218+0.j  0.68912848+0.j]\n",
      "v3 = [-0.07534056-0.54847208j -0.38971025+0.00669761j  0.61537837+0.j\n",
      "  0.09893557+0.39128564j]\n",
      "v4 = [-0.07534056+0.54847208j -0.38971025-0.00669761j  0.61537837-0.j\n",
      "  0.09893557-0.39128564j]\n",
      "\n",
      "Sanity check, the following vectors should all be zero vectors:\n",
      "[-2.66453526e-15+0.j -4.44089210e-16+0.j -5.32907052e-15+0.j\n",
      " -3.10862447e-15+0.j]\n",
      "[-7.80625564e-16+0.j -1.70002901e-16+0.j -1.06685494e-15+0.j\n",
      " -2.49800181e-16+0.j]\n",
      "[-3.88578059e-16+2.22044605e-16j -3.33066907e-16-2.49800181e-16j\n",
      " -1.33226763e-15+1.11022302e-16j -3.88578059e-16+4.44089210e-16j]\n",
      "[-3.88578059e-16-2.22044605e-16j -3.33066907e-16+2.49800181e-16j\n",
      " -1.33226763e-15-1.11022302e-16j -3.88578059e-16-4.44089210e-16j]\n"
     ]
    }
   ],
   "source": [
    "#What are the eigenvalues and eigenvectors of the matrix A defined above? \n",
    "import numpy as np\n",
    "\n",
    "A = np.array( [ [2,1,1,0],\n",
    "                [1,2,0,1],\n",
    "                [1,2,3,2],\n",
    "                [0,2,1,2] ] )\n",
    "\n",
    "eigenvalues, eigenvectors = np.linalg.eig(A)\n",
    "\n",
    "print(\"The eigenvalues of matrix A are:\")\n",
    "for idx, eigenvalue in enumerate(eigenvalues, start=1):\n",
    "    print(\"lambda\" + str(idx) + \" = \" + str(eigenvalue))\n",
    "\n",
    "print()\n",
    "\n",
    "print(\"The eigenvectors of matrix A are (columnwise):\")\n",
    "print(eigenvectors)\n",
    "print()\n",
    "\n",
    "for idx, eigenvector in enumerate(eigenvectors.T, start=1):\n",
    "    print(\"v\" + str(idx) + \" = \" + str(eigenvector))\n",
    "\n",
    "print()\n",
    "    \n",
    "# let's check if the eigenvalues and eigenvectors satisfy the condition of: A*v = lambda*v ==> A*v - lambda*v = 0\n",
    "print(\"Sanity check, the following vectors should all be zero vectors:\")\n",
    "for eigenvalue, eigenvector in zip(eigenvalues, eigenvectors.T):\n",
    "    print(np.dot(A, eigenvector) - eigenvalue * eigenvector)"
   ]
  },
  {
   "cell_type": "markdown",
   "metadata": {},
   "source": [
    "Write a function that rotates a 2D vector by an angle  𝜃."
   ]
  },
  {
   "cell_type": "markdown",
   "metadata": {},
   "source": [
    "# 3.B Rotation Of A Vector Solution"
   ]
  },
  {
   "cell_type": "code",
   "execution_count": 65,
   "metadata": {},
   "outputs": [
    {
     "name": "stdout",
     "output_type": "stream",
     "text": [
      "4.71238898038469\n",
      "A rotation of vector V = [1 0] by theta = 270.0° results in V' = [-1.8369702e-16 -1.0000000e+00].\n"
     ]
    }
   ],
   "source": [
    "import numpy as np\n",
    "\n",
    "def rotateVector2D(someVector, theta):\n",
    "    result = None\n",
    "    if someVector.shape == (2,):\n",
    "        rotationMatrix = np.array( [ [np.cos(theta), -np.sin(theta)],\n",
    "                                     [np.sin(theta), np.cos(theta)] ] )\n",
    "        result = np.dot(rotationMatrix, someVector)\n",
    "    return result\n",
    "\n",
    "V = np.array( [1,0] )\n",
    "theta = 3 * np.pi / 2\n",
    "print(theta)\n",
    "\n",
    "print(\"A rotation of vector V = \" + str(V) + \" by theta = \" +\n",
    "      str(np.rad2deg(theta)) + \"° results in V' = \" + str(rotateVector2D(V, theta)) + \".\")"
   ]
  },
  {
   "cell_type": "code",
   "execution_count": null,
   "metadata": {},
   "outputs": [],
   "source": []
  }
 ],
 "metadata": {
  "kernelspec": {
   "display_name": "Python 3 (ipykernel)",
   "language": "python",
   "name": "python3"
  },
  "language_info": {
   "codemirror_mode": {
    "name": "ipython",
    "version": 3
   },
   "file_extension": ".py",
   "mimetype": "text/x-python",
   "name": "python",
   "nbconvert_exporter": "python",
   "pygments_lexer": "ipython3",
   "version": "3.9.7"
  }
 },
 "nbformat": 4,
 "nbformat_minor": 1
}
